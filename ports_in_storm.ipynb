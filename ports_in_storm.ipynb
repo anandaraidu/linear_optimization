{
 "cells": [
  {
   "cell_type": "code",
   "execution_count": 14,
   "metadata": {},
   "outputs": [],
   "source": [
    "from pulp import *"
   ]
  },
  {
   "cell_type": "markdown",
   "metadata": {},
   "source": [
    "Source:\n",
    "http://www.puzzlor.com/2017-02_PortInAStorm.html"
   ]
  },
  {
   "cell_type": "code",
   "execution_count": 38,
   "metadata": {},
   "outputs": [],
   "source": [
    "prob = LpProblem(\"Port in Storm\",LpMinimize)\n",
    "\n",
    "a1 = LpVariable(\"a1\",0,None,LpInteger)\n",
    "a2 = LpVariable(\"a2\",0,None,LpInteger)\n",
    "a3 = LpVariable(\"a3\",0,None,LpInteger)\n",
    "\n",
    "b1 = LpVariable(\"b1\",0,None,LpInteger)\n",
    "b2 = LpVariable(\"b2\",0,None,LpInteger)\n",
    "b3 = LpVariable(\"b3\",0,None,LpInteger)\n",
    "\n",
    "c1 = LpVariable(\"c1\",0,None,LpInteger)\n",
    "c2 = LpVariable(\"c2\",0,None,LpInteger)\n",
    "c3 = LpVariable(\"c3\",0,None,LpInteger)"
   ]
  },
  {
   "cell_type": "code",
   "execution_count": 35,
   "metadata": {},
   "outputs": [],
   "source": [
    "prob += a1*1 + a2*3 + a3*2 +  b1*2 + b2*2 + b3*1 + c1*3 + c2*2 + c3*1"
   ]
  },
  {
   "cell_type": "code",
   "execution_count": 36,
   "metadata": {},
   "outputs": [],
   "source": [
    "prob += a1 +b1 +c1 == 4\n",
    "prob += a2 +b2 +c2 == 7\n",
    "prob += a3 +b3 +c3 == 9\n",
    "prob += a1 +a2 +a3 == 8\n",
    "prob += b1 +b2 +b3 == 5\n",
    "prob += c1 +c2 +c3 == 7\n"
   ]
  },
  {
   "cell_type": "code",
   "execution_count": 37,
   "metadata": {},
   "outputs": [
    {
     "name": "stdout",
     "output_type": "stream",
     "text": [
      "Total Cost of Ingredients per can =  31.0\n"
     ]
    }
   ],
   "source": [
    "prob.solve()\n",
    "print(\"Total Cost of Ingredients per can = \", value(prob.objective))"
   ]
  }
 ],
 "metadata": {
  "kernelspec": {
   "display_name": "Python 3",
   "language": "python",
   "name": "python3"
  },
  "language_info": {
   "codemirror_mode": {
    "name": "ipython",
    "version": 3
   },
   "file_extension": ".py",
   "mimetype": "text/x-python",
   "name": "python",
   "nbconvert_exporter": "python",
   "pygments_lexer": "ipython3",
   "version": "3.7.3"
  }
 },
 "nbformat": 4,
 "nbformat_minor": 2
}
